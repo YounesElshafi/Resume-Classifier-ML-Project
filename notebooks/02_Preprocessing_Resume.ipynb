{
 "cells": [
  {
   "cell_type": "markdown",
   "id": "9fafae09-5d75-4e0f-9da3-e9c44a92708a",
   "metadata": {},
   "source": [
    "## 🧹 Data Preprocessing & Feature Extraction for Resume Classification"
   ]
  },
  {
   "cell_type": "markdown",
   "id": "aaa75353-ddb8-4716-84f9-9b1d3c0c68c0",
   "metadata": {},
   "source": [
    "## 1. Import Required Libraries"
   ]
  },
  {
   "cell_type": "code",
   "execution_count": 3,
   "id": "2f006f30-cb5f-4f7b-bce7-e03c7d352093",
   "metadata": {},
   "outputs": [
    {
     "name": "stderr",
     "output_type": "stream",
     "text": [
      "[nltk_data] Downloading package stopwords to\n",
      "[nltk_data]     C:\\Users\\usife\\AppData\\Roaming\\nltk_data...\n",
      "[nltk_data]   Package stopwords is already up-to-date!\n",
      "[nltk_data] Downloading package punkt to\n",
      "[nltk_data]     C:\\Users\\usife\\AppData\\Roaming\\nltk_data...\n",
      "[nltk_data]   Package punkt is already up-to-date!\n"
     ]
    },
    {
     "data": {
      "text/plain": [
       "True"
      ]
     },
     "execution_count": 3,
     "metadata": {},
     "output_type": "execute_result"
    }
   ],
   "source": [
    "import pandas as pd\n",
    "import numpy as np\n",
    "import re\n",
    "import string\n",
    "import nltk\n",
    "import spacy\n",
    "from sklearn.feature_extraction.text import TfidfVectorizer\n",
    "from sklearn.model_selection import train_test_split\n",
    "from sklearn.preprocessing import LabelEncoder\n",
    "from nltk.corpus import stopwords\n",
    "from nltk.tokenize import word_tokenize\n",
    "import joblib\n",
    "import warnings\n",
    "\n",
    "warnings.filterwarnings('ignore')\n",
    "nltk.download('stopwords')\n",
    "nltk.download('punkt')"
   ]
  },
  {
   "cell_type": "code",
   "execution_count": 5,
   "id": "f048d584-b266-4bda-aff7-07f365b55307",
   "metadata": {},
   "outputs": [
    {
     "name": "stderr",
     "output_type": "stream",
     "text": [
      "[nltk_data] Downloading package stopwords to\n",
      "[nltk_data]     C:\\Users\\usife\\AppData\\Roaming\\nltk_data...\n",
      "[nltk_data]   Package stopwords is already up-to-date!\n"
     ]
    },
    {
     "data": {
      "text/plain": [
       "True"
      ]
     },
     "execution_count": 5,
     "metadata": {},
     "output_type": "execute_result"
    }
   ],
   "source": [
    "nltk.download('stopwords')"
   ]
  },
  {
   "cell_type": "markdown",
   "id": "7ee3444a-12ae-4a52-9ab3-032b6ab2d29a",
   "metadata": {},
   "source": [
    "### 2. Load and Clean Dataset"
   ]
  },
  {
   "cell_type": "code",
   "execution_count": 8,
   "id": "be76474e-4473-435c-8807-8462c47ed899",
   "metadata": {},
   "outputs": [],
   "source": [
    "# Load dataset\n",
    "path = '../data/resume-dataset/UpdatedResumeDataSet.csv'\n",
    "DataSet = pd.read_csv(path)"
   ]
  },
  {
   "cell_type": "code",
   "execution_count": 10,
   "id": "d26fbd59-6c32-4bcb-841b-744f113ef89c",
   "metadata": {},
   "outputs": [],
   "source": [
    "# Drop duplicates\n",
    "DataSet.drop_duplicates(subset=['Resume'], inplace=True)\n",
    "DataSet.reset_index(drop=True, inplace=True)"
   ]
  },
  {
   "cell_type": "markdown",
   "id": "a18fd5a5-be5c-4e86-a1b6-e5e21d65cac4",
   "metadata": {},
   "source": [
    "## 3. Create a Copy for Cleaning"
   ]
  },
  {
   "cell_type": "code",
   "execution_count": 13,
   "id": "ee72437a-c641-4ecc-98f9-dd8b7b9ae10b",
   "metadata": {},
   "outputs": [],
   "source": [
    "cleaned_DataSet = DataSet.copy()"
   ]
  },
  {
   "cell_type": "markdown",
   "id": "5ff0db55-f617-4fd2-b8e8-0af0e4e8cc12",
   "metadata": {},
   "source": [
    "## 4. Clean Resume Text"
   ]
  },
  {
   "cell_type": "code",
   "execution_count": 16,
   "id": "284214b9-0182-480e-bd10-cf2ff45913a9",
   "metadata": {},
   "outputs": [],
   "source": [
    "nlp = spacy.load('en_core_web_sm')\n",
    "\n",
    "def cleanResume(resumeText):\n",
    "    resumeText = re.sub('http\\\\S+\\\\s*', ' ', resumeText)\n",
    "    resumeText = re.sub('RT|cc', ' ', resumeText)\n",
    "    resumeText = re.sub('#\\\\S+', '', resumeText)\n",
    "    resumeText = re.sub('@\\\\S+', ' ', resumeText)\n",
    "    resumeText = re.sub('[%s]' % re.escape(string.punctuation), ' ', resumeText)\n",
    "    resumeText = re.sub(r'[^\\x00-\\x7f]', r' ', resumeText)\n",
    "    resumeText = re.sub('\\\\s+', ' ', resumeText)\n",
    "    return resumeText"
   ]
  },
  {
   "cell_type": "code",
   "execution_count": 18,
   "id": "5430348b-78b3-4fb6-b594-f2f9f122f235",
   "metadata": {},
   "outputs": [],
   "source": [
    "cleaned_DataSet['Cleaned_Resume'] = cleaned_DataSet['Resume'].apply(cleanResume)"
   ]
  },
  {
   "cell_type": "markdown",
   "id": "68b7a9dd-8f46-4702-9ed9-bf72cb66de1a",
   "metadata": {},
   "source": [
    "### 4. Encode Target Labels"
   ]
  },
  {
   "cell_type": "code",
   "execution_count": 21,
   "id": "36db649d-281a-49ab-8f32-b3b166cb7b93",
   "metadata": {},
   "outputs": [],
   "source": [
    "le = LabelEncoder()\n",
    "cleaned_DataSet['Category_encoded'] = le.fit_transform(cleaned_DataSet['Category'])"
   ]
  },
  {
   "cell_type": "markdown",
   "id": "aa528759-7c3f-4b98-8d01-838186b870c7",
   "metadata": {},
   "source": [
    "### 5. Feature Extraction (TF-IDF)"
   ]
  },
  {
   "cell_type": "code",
   "execution_count": 24,
   "id": "88469f4c-3ec8-4c4a-84a7-afe4611cafca",
   "metadata": {},
   "outputs": [],
   "source": [
    "stop_words = set(stopwords.words('english') + ['``', \"''\"])\n",
    "\n",
    "def tokenize_and_filter(text):\n",
    "    tokens = word_tokenize(text)\n",
    "    return [word for word in tokens if word.lower() not in stop_words and word not in string.punctuation]"
   ]
  },
  {
   "cell_type": "code",
   "execution_count": 26,
   "id": "35d30257-c184-4b40-98ce-2f3eb80a1d37",
   "metadata": {},
   "outputs": [],
   "source": [
    "cleaned_DataSet['Tokens'] = cleaned_DataSet['Cleaned_Resume'].apply(tokenize_and_filter)\n",
    "cleaned_DataSet['Filtered_Text'] = cleaned_DataSet['Tokens'].apply(lambda tokens: ' '.join(tokens))"
   ]
  },
  {
   "cell_type": "code",
   "execution_count": 28,
   "id": "34fe03a0-5bb0-4eeb-8e68-b4da6e017648",
   "metadata": {},
   "outputs": [],
   "source": [
    "vectorizer = TfidfVectorizer(sublinear_tf=True, stop_words='english', max_features=1500)\n",
    "X = vectorizer.fit_transform(cleaned_DataSet['Filtered_Text'])\n",
    "y = cleaned_DataSet['Category_encoded']"
   ]
  },
  {
   "cell_type": "markdown",
   "id": "b6a810af-497b-439f-b526-8b8b57d83a13",
   "metadata": {},
   "source": [
    "### 6. Train/Test Split"
   ]
  },
  {
   "cell_type": "code",
   "execution_count": 31,
   "id": "949fec1e-5714-4211-a659-0f1e4d5a05f4",
   "metadata": {},
   "outputs": [],
   "source": [
    "X_train, X_test, y_train, y_test = train_test_split(\n",
    "    X, y, test_size=0.2, random_state=42, stratify=y)"
   ]
  },
  {
   "cell_type": "code",
   "execution_count": 33,
   "id": "eb33d9cf-42a2-4e05-bf7a-e8eee9608da5",
   "metadata": {},
   "outputs": [
    {
     "name": "stdout",
     "output_type": "stream",
     "text": [
      "\n",
      "✅ Train shape: (132, 1500)\n",
      "✅ Test shape: (34, 1500)\n"
     ]
    }
   ],
   "source": [
    "print(\"\\n✅ Train shape:\", X_train.shape)\n",
    "print(\"✅ Test shape:\", X_test.shape)"
   ]
  },
  {
   "cell_type": "markdown",
   "id": "623957d8-310b-4249-8deb-32cbc7e391cb",
   "metadata": {},
   "source": [
    "### 7. Save Data with Joblib"
   ]
  },
  {
   "cell_type": "code",
   "execution_count": 36,
   "id": "96601a64-6c53-427d-a76f-54b430d7cbff",
   "metadata": {},
   "outputs": [
    {
     "data": {
      "text/plain": [
       "['../models/y_test.pkl']"
      ]
     },
     "execution_count": 36,
     "metadata": {},
     "output_type": "execute_result"
    }
   ],
   "source": [
    "joblib.dump(X_train, '../models/X_train.pkl')\n",
    "joblib.dump(X_test, '../models/X_test.pkl')\n",
    "joblib.dump(y_train, '../models/y_train.pkl')\n",
    "joblib.dump(y_test, '../models/y_test.pkl')"
   ]
  },
  {
   "cell_type": "markdown",
   "id": "da213868-7c84-489c-b353-cb62f8c77480",
   "metadata": {},
   "source": [
    "# ✅ Data is now preprocessed, vectorized, split, and saved. Ready for model training."
   ]
  },
  {
   "cell_type": "code",
   "execution_count": null,
   "id": "86e7c74e-d6ba-4103-b528-30051490d6cb",
   "metadata": {},
   "outputs": [],
   "source": []
  }
 ],
 "metadata": {
  "kernelspec": {
   "display_name": "Python [conda env:env_ai]",
   "language": "python",
   "name": "conda-env-env_ai-py"
  },
  "language_info": {
   "codemirror_mode": {
    "name": "ipython",
    "version": 3
   },
   "file_extension": ".py",
   "mimetype": "text/x-python",
   "name": "python",
   "nbconvert_exporter": "python",
   "pygments_lexer": "ipython3",
   "version": "3.9.21"
  }
 },
 "nbformat": 4,
 "nbformat_minor": 5
}
