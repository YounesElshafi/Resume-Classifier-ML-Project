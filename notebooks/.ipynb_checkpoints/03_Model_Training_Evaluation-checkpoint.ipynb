{
 "cells": [
  {
   "cell_type": "markdown",
   "id": "8e799b02-c315-41c5-be4d-886cfb883e6f",
   "metadata": {},
   "source": [
    "# 🤖 Model Training & Evaluation for Resume Classification"
   ]
  },
  {
   "cell_type": "markdown",
   "id": "91a92f8d-179d-449a-b8ec-1fdbb7942fdc",
   "metadata": {},
   "source": [
    "## 1. Import Required Libraries"
   ]
  },
  {
   "cell_type": "code",
   "execution_count": 78,
   "id": "0373112b-c0ca-4efd-b6c8-70342e5ad36e",
   "metadata": {},
   "outputs": [],
   "source": [
    "import pandas as pd\n",
    "import numpy as np\n",
    "import joblib\n",
    "from sklearn.linear_model import LogisticRegression\n",
    "from sklearn.naive_bayes import MultinomialNB\n",
    "from sklearn.ensemble import RandomForestClassifier\n",
    "from sklearn.metrics import classification_report, confusion_matrix, accuracy_score\n",
    "import seaborn as sns\n",
    "import matplotlib.pyplot as plt\n",
    "from sklearn.feature_extraction.text import TfidfVectorizer\n",
    "from scipy.sparse import hstack\n",
    "import numpy as np\n",
    "import pandas as pd\n",
    "import matplotlib.pyplot as plt\n",
    "import warnings\n",
    "warnings.filterwarnings('ignore')\n",
    "from sklearn.naive_bayes import MultinomialNB\n",
    "from sklearn.multiclass import OneVsRestClassifier\n",
    "from sklearn import metrics\n",
    "from sklearn.metrics import accuracy_score\n",
    "from pandas.plotting import scatter_matrix\n",
    "from sklearn.neighbors import KNeighborsClassifier\n",
    "from sklearn import metrics\n",
    "from sklearn.svm import SVC\n",
    "from sklearn.multiclass import OneVsRestClassifier\n",
    "from sklearn.metrics import accuracy_score, confusion_matrix, classification_report"
   ]
  },
  {
   "cell_type": "markdown",
   "id": "0365385f-0d59-481b-9a4f-d53f2da126f5",
   "metadata": {},
   "source": [
    "## 2. Load Prepared Data"
   ]
  },
  {
   "cell_type": "code",
   "execution_count": 82,
   "id": "a40e0eee-fc14-4d55-8f47-61d89ba16e23",
   "metadata": {},
   "outputs": [],
   "source": [
    "X_train = joblib.load('X_train.pkl')\n",
    "X_test = joblib.load('X_test.pkl')\n",
    "y_train = joblib.load('y_train.pkl')\n",
    "y_test = joblib.load('y_test.pkl')"
   ]
  },
  {
   "cell_type": "markdown",
   "id": "6eb40438-44eb-47c5-a561-cf092363e734",
   "metadata": {},
   "source": [
    "## 3. Initialize Models"
   ]
  },
  {
   "cell_type": "code",
   "execution_count": 85,
   "id": "510375fa-1083-4a12-bd12-d61f3bcfc3ef",
   "metadata": {},
   "outputs": [],
   "source": [
    "def try_model(model):\n",
    "    # Fit the model\n",
    "    model.fit(X_train, y_train)\n",
    "    \n",
    "    # Generate predictions\n",
    "    train_pred = model.predict(X_train)\n",
    "    test_pred = model.predict(X_test)\n",
    "    \n",
    "    # Compute \n",
    "    train_acu = accuracy_score(y_train, train_pred)\n",
    "    test_acu = accuracy_score(y_test, test_pred)\n",
    "    return print(f\"train accuracy:\" ,train_acu,f\"test acuracy: \",test_acu)"
   ]
  },
  {
   "cell_type": "markdown",
   "id": "2d6efdcd-1b52-4c51-9e63-b794c7777c2a",
   "metadata": {},
   "source": [
    "## 4. Train and Evaluate Models"
   ]
  },
  {
   "cell_type": "code",
   "execution_count": 80,
   "id": "7ce2b449-c7ff-4c93-8fe3-8c08a8aec108",
   "metadata": {},
   "outputs": [
    {
     "name": "stdout",
     "output_type": "stream",
     "text": [
      "logistic Regression acuracy:\n",
      "train accuracy: 0.9393939393939394 test acuracy:  0.5294117647058824\n",
      "Random Forest acuracy:\n",
      "train accuracy: 1.0 test acuracy:  0.7352941176470589\n",
      "Naive Bayes acuracy:\n",
      "train accuracy: 0.803030303030303 test acuracy:  0.3235294117647059\n",
      "KNeighbors Classifier acuracy:\n",
      "train accuracy: 0.8712121212121212 test acuracy:  0.7352941176470589\n",
      "OneVsRestClassifier acuracy:\n",
      "train accuracy: 1.0 test acuracy:  0.7647058823529411\n",
      "OneVsRestClassifier and knn acuracy:\n",
      "train accuracy: 0.8787878787878788 test acuracy:  0.8235294117647058\n"
     ]
    }
   ],
   "source": [
    "print(\"logistic Regression acuracy:\")\n",
    "try_model(LogisticRegression(max_iter=1000))\n",
    "print(\"Random Forest acuracy:\")\n",
    "try_model(RandomForestClassifier(n_estimators=100, random_state=42))\n",
    "print(\"Naive Bayes acuracy:\")\n",
    "try_model(MultinomialNB())\n",
    "print(\"KNeighbors Classifier acuracy:\")\n",
    "try_model(KNeighborsClassifier())\n",
    "print(\"OneVsRestClassifier acuracy:\")\n",
    "try_model(OneVsRestClassifier(SVC()))\n",
    "print(\"OneVsRestClassifier and knn acuracy:\")\n",
    "try_model(OneVsRestClassifier(KNeighborsClassifier()))"
   ]
  },
  {
   "cell_type": "code",
   "execution_count": 87,
   "id": "347ad65a-7208-43ed-a19c-eb21e55f1d9c",
   "metadata": {},
   "outputs": [
    {
     "name": "stdout",
     "output_type": "stream",
     "text": [
      "logistic Regression acuracy:\n",
      "train accuracy: 1.0 test acuracy:  0.9846153846153847\n",
      "Random Forest acuracy:\n",
      "train accuracy: 1.0 test acuracy:  0.9846153846153847\n",
      "Naive Bayes acuracy:\n",
      "train accuracy: 1.0 test acuracy:  0.9846153846153847\n",
      "KNeighbors Classifier acuracy:\n",
      "train accuracy: 0.9423076923076923 test acuracy:  0.9384615384615385\n",
      "OneVsRestClassifier acuracy:\n",
      "train accuracy: 1.0 test acuracy:  0.9846153846153847\n",
      "OneVsRestClassifier and knn acuracy:\n",
      "train accuracy: 0.9423076923076923 test acuracy:  0.9384615384615385\n"
     ]
    }
   ],
   "source": [
    "print(\"logistic Regression acuracy:\")\n",
    "try_model(LogisticRegression(max_iter=1000))\n",
    "print(\"Random Forest acuracy:\")\n",
    "try_model(RandomForestClassifier(n_estimators=100, random_state=42))\n",
    "print(\"Naive Bayes acuracy:\")\n",
    "try_model(MultinomialNB())\n",
    "print(\"KNeighbors Classifier acuracy:\")\n",
    "try_model(KNeighborsClassifier())\n",
    "print(\"OneVsRestClassifier acuracy:\")\n",
    "try_model(OneVsRestClassifier(SVC()))\n",
    "print(\"OneVsRestClassifier and knn acuracy:\")\n",
    "try_model(OneVsRestClassifier(KNeighborsClassifier()))"
   ]
  },
  {
   "cell_type": "code",
   "execution_count": null,
   "id": "63659bab-2a3a-41bc-88fc-9bfa6676c256",
   "metadata": {},
   "outputs": [],
   "source": []
  }
 ],
 "metadata": {
  "kernelspec": {
   "display_name": "Python [conda env:env_ai]",
   "language": "python",
   "name": "conda-env-env_ai-py"
  },
  "language_info": {
   "codemirror_mode": {
    "name": "ipython",
    "version": 3
   },
   "file_extension": ".py",
   "mimetype": "text/x-python",
   "name": "python",
   "nbconvert_exporter": "python",
   "pygments_lexer": "ipython3",
   "version": "3.9.21"
  }
 },
 "nbformat": 4,
 "nbformat_minor": 5
}
