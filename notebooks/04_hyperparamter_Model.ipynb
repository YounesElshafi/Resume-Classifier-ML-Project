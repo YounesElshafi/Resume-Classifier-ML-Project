{
 "cells": [
  {
   "cell_type": "markdown",
   "id": "5499ff1b-7ff4-4043-9753-e56e9f3f52ae",
   "metadata": {},
   "source": [
    "### 🔧 SVM with KNN Neighborhood Tuning "
   ]
  },
  {
   "cell_type": "markdown",
   "id": "48c7fb3b-2d59-4886-81dc-fa918750c2c6",
   "metadata": {},
   "source": [
    "###  Import Libraries and setup"
   ]
  },
  {
   "cell_type": "code",
   "execution_count": 5,
   "id": "e6386264-e17d-447f-ac71-ff2f982d6303",
   "metadata": {},
   "outputs": [],
   "source": [
    "import numpy as np\n",
    "import random\n",
    "from sklearn.neighbors import NearestNeighbors\n",
    "from sklearn.svm import SVC\n",
    "from sklearn.metrics import accuracy_score, classification_report\n",
    "import joblib\n",
    "import os\n",
    "import warnings\n",
    "\n",
    "warnings.filterwarnings('ignore')"
   ]
  },
  {
   "cell_type": "code",
   "execution_count": 7,
   "id": "32fb7384-4b82-4977-8b41-d4fc72b9be54",
   "metadata": {},
   "outputs": [],
   "source": [
    "# Set random seeds for reproducibility\n",
    "SEED = 42\n",
    "np.random.seed(SEED)\n",
    "random.seed(SEED)"
   ]
  },
  {
   "cell_type": "markdown",
   "id": "f29afeef-91fd-42f8-9c11-dd0da1cc50fc",
   "metadata": {},
   "source": [
    "### Load Preprocessed Data"
   ]
  },
  {
   "cell_type": "code",
   "execution_count": 10,
   "id": "efed5323-cffc-4a34-b1da-c06c658ad561",
   "metadata": {},
   "outputs": [],
   "source": [
    "X_train = joblib.load('../models/X_train.pkl')\n",
    "X_test = joblib.load('../models/X_test.pkl')\n",
    "y_train = joblib.load('../models/y_train.pkl')\n",
    "y_test = joblib.load('../models/y_test.pkl')"
   ]
  },
  {
   "cell_type": "markdown",
   "id": "383f369c-4db9-4f7b-966c-b48a842451c5",
   "metadata": {},
   "source": [
    "### Convert sparse matrices to dense arrays "
   ]
  },
  {
   "cell_type": "code",
   "execution_count": 14,
   "id": "dc7ad2b8-ccd6-4330-b222-d0bccc52c9b3",
   "metadata": {},
   "outputs": [],
   "source": [
    "X_train_dense = X_train.toarray() if hasattr(X_train, 'toarray') else X_train\n",
    "X_test_dense = X_test.toarray() if hasattr(X_test, 'toarray') else X_test"
   ]
  },
  {
   "cell_type": "markdown",
   "id": "b3d4a024-794b-42d2-9656-e332c0c68e2b",
   "metadata": {},
   "source": [
    "### Fixed Hyperparameters "
   ]
  },
  {
   "cell_type": "code",
   "execution_count": 17,
   "id": "570db9b7-7cc2-4596-ad95-424e2eb2277b",
   "metadata": {},
   "outputs": [],
   "source": [
    "k = 11\n",
    "C = 0.33142972574893137\n",
    "kernel = 'linear'\n",
    "gamma = 'auto'"
   ]
  },
  {
   "cell_type": "markdown",
   "id": "071766e3-4ee6-48f7-a3f7-2f7e7e0ee8ae",
   "metadata": {},
   "source": [
    "### Fit KNN Model"
   ]
  },
  {
   "cell_type": "code",
   "execution_count": 20,
   "id": "63739b9e-b28c-44b5-a473-abe48ee8dabe",
   "metadata": {},
   "outputs": [],
   "source": [
    "nbrs = NearestNeighbors(n_neighbors=k).fit(X_train_dense)"
   ]
  },
  {
   "cell_type": "markdown",
   "id": "d9e64d81-e043-4d34-b08f-f8224ebf9307",
   "metadata": {},
   "source": [
    "### Train Predictions"
   ]
  },
  {
   "cell_type": "code",
   "execution_count": 23,
   "id": "67412c64-9b07-43e6-a567-cd4b4e41b8c4",
   "metadata": {},
   "outputs": [
    {
     "name": "stderr",
     "output_type": "stream",
     "text": [
      "  File \"D:\\anaconda3\\envs\\env_ai\\lib\\site-packages\\joblib\\externals\\loky\\backend\\context.py\", line 257, in _count_physical_cores\n",
      "    cpu_info = subprocess.run(\n",
      "  File \"D:\\anaconda3\\envs\\env_ai\\lib\\subprocess.py\", line 505, in run\n",
      "    with Popen(*popenargs, **kwargs) as process:\n",
      "  File \"D:\\anaconda3\\envs\\env_ai\\lib\\subprocess.py\", line 951, in __init__\n",
      "    self._execute_child(args, executable, preexec_fn, close_fds,\n",
      "  File \"D:\\anaconda3\\envs\\env_ai\\lib\\subprocess.py\", line 1436, in _execute_child\n",
      "    hp, ht, pid, tid = _winapi.CreateProcess(executable, args,\n"
     ]
    }
   ],
   "source": [
    "train_predictions = []\n",
    "for train_point in X_train_dense:\n",
    "    distances, indices = nbrs.kneighbors([train_point])\n",
    "    X_local = X_train_dense[indices[0]]\n",
    "    y_local = y_train.iloc[indices[0]]\n",
    "    \n",
    "    try:\n",
    "        clf = SVC(C=C, kernel=kernel, gamma=gamma, random_state=SEED)\n",
    "        clf.fit(X_local, y_local)\n",
    "        pred = clf.predict([train_point])[0]\n",
    "        train_predictions.append(pred)\n",
    "    except:\n",
    "        # If model training fails, use majority class\n",
    "        train_predictions.append(y_train.value_counts().idxmax())"
   ]
  },
  {
   "cell_type": "markdown",
   "id": "0f3b612c-cd1c-4855-8df6-5796f62ab7a7",
   "metadata": {},
   "source": [
    "### Test Predictions"
   ]
  },
  {
   "cell_type": "code",
   "execution_count": 26,
   "id": "da2c9abd-7a02-42b8-b4a2-18d7623fc16f",
   "metadata": {},
   "outputs": [],
   "source": [
    "test_predictions = []\n",
    "for test_point in X_test_dense:\n",
    "    distances, indices = nbrs.kneighbors([test_point])\n",
    "    X_local = X_train_dense[indices[0]]\n",
    "    y_local = y_train.iloc[indices[0]]\n",
    "\n",
    "    try:\n",
    "        clf = SVC(C=C, kernel=kernel, gamma=gamma, random_state=SEED)\n",
    "        clf.fit(X_local, y_local)\n",
    "        pred = clf.predict([test_point])[0]\n",
    "        test_predictions.append(pred)\n",
    "    except:\n",
    "        test_predictions.append(y_train.value_counts().idxmax())"
   ]
  },
  {
   "cell_type": "markdown",
   "id": "3b403e0d-024e-4648-a2e0-011da6ea1f02",
   "metadata": {},
   "source": [
    "### Evaluation Results"
   ]
  },
  {
   "cell_type": "code",
   "execution_count": 29,
   "id": "444cf518-6297-45cc-a870-c9c0c1c348aa",
   "metadata": {},
   "outputs": [
    {
     "name": "stdout",
     "output_type": "stream",
     "text": [
      "\n",
      "📊 Train Accuracy: 0.8863636363636364\n",
      "\n",
      "📄 Train Classification Report:\n",
      "               precision    recall  f1-score   support\n",
      "\n",
      "           0       1.00      1.00      1.00         8\n",
      "           1       1.00      0.60      0.75         5\n",
      "           2       1.00      0.83      0.91         6\n",
      "           3       1.00      1.00      1.00         4\n",
      "           4       0.83      1.00      0.91         5\n",
      "           5       1.00      1.00      1.00         5\n",
      "           6       1.00      1.00      1.00         8\n",
      "           7       0.75      1.00      0.86         9\n",
      "           8       1.00      0.50      0.67         6\n",
      "           9       0.71      1.00      0.83         5\n",
      "          10       1.00      1.00      1.00         4\n",
      "          11       0.80      1.00      0.89         4\n",
      "          12       1.00      0.88      0.93         8\n",
      "          13       1.00      1.00      1.00         5\n",
      "          14       0.83      1.00      0.91         5\n",
      "          15       0.77      1.00      0.87        10\n",
      "          16       1.00      1.00      1.00         4\n",
      "          17       1.00      0.75      0.86         4\n",
      "          18       0.43      1.00      0.60         3\n",
      "          19       0.00      0.00      0.00         2\n",
      "          20       1.00      1.00      1.00         5\n",
      "          21       1.00      0.80      0.89         5\n",
      "          22       1.00      1.00      1.00         4\n",
      "          23       1.00      0.80      0.89         5\n",
      "          24       0.00      0.00      0.00         3\n",
      "\n",
      "    accuracy                           0.89       132\n",
      "   macro avg       0.85      0.85      0.83       132\n",
      "weighted avg       0.89      0.89      0.87       132\n",
      "\n"
     ]
    }
   ],
   "source": [
    "print(\"\\n📊 Train Accuracy:\", accuracy_score(y_train, train_predictions))\n",
    "print(\"\\n📄 Train Classification Report:\\n\", classification_report(y_train, train_predictions))"
   ]
  },
  {
   "cell_type": "code",
   "execution_count": 31,
   "id": "89d9646b-a30c-4ed5-bc66-23ff98cc793d",
   "metadata": {},
   "outputs": [
    {
     "name": "stdout",
     "output_type": "stream",
     "text": [
      "\n",
      "📊 Test Accuracy: 0.8529411764705882\n",
      "\n",
      "📄 Test Classification Report:\n",
      "               precision    recall  f1-score   support\n",
      "\n",
      "           0       1.00      1.00      1.00         2\n",
      "           1       1.00      1.00      1.00         1\n",
      "           2       0.33      1.00      0.50         1\n",
      "           3       1.00      1.00      1.00         1\n",
      "           4       1.00      1.00      1.00         1\n",
      "           5       1.00      1.00      1.00         1\n",
      "           6       1.00      1.00      1.00         2\n",
      "           7       1.00      1.00      1.00         2\n",
      "           8       1.00      1.00      1.00         1\n",
      "           9       0.67      1.00      0.80         2\n",
      "          10       1.00      1.00      1.00         1\n",
      "          11       1.00      1.00      1.00         1\n",
      "          12       1.00      1.00      1.00         2\n",
      "          13       1.00      1.00      1.00         2\n",
      "          14       1.00      1.00      1.00         1\n",
      "          15       1.00      1.00      1.00         3\n",
      "          16       0.00      0.00      0.00         1\n",
      "          17       1.00      1.00      1.00         1\n",
      "          18       0.33      1.00      0.50         1\n",
      "          19       0.00      0.00      0.00         1\n",
      "          20       1.00      1.00      1.00         1\n",
      "          21       1.00      1.00      1.00         1\n",
      "          22       1.00      1.00      1.00         1\n",
      "          23       0.00      0.00      0.00         2\n",
      "          24       0.00      0.00      0.00         1\n",
      "\n",
      "    accuracy                           0.85        34\n",
      "   macro avg       0.77      0.84      0.79        34\n",
      "weighted avg       0.79      0.85      0.81        34\n",
      "\n"
     ]
    }
   ],
   "source": [
    "print(\"\\n📊 Test Accuracy:\", accuracy_score(y_test, test_predictions))\n",
    "print(\"\\n📄 Test Classification Report:\\n\", classification_report(y_test, test_predictions))"
   ]
  },
  {
   "cell_type": "code",
   "execution_count": null,
   "id": "7831b4ec-43ce-4e52-aa49-1d011d19d017",
   "metadata": {},
   "outputs": [],
   "source": []
  }
 ],
 "metadata": {
  "kernelspec": {
   "display_name": "Python [conda env:env_ai]",
   "language": "python",
   "name": "conda-env-env_ai-py"
  },
  "language_info": {
   "codemirror_mode": {
    "name": "ipython",
    "version": 3
   },
   "file_extension": ".py",
   "mimetype": "text/x-python",
   "name": "python",
   "nbconvert_exporter": "python",
   "pygments_lexer": "ipython3",
   "version": "3.9.21"
  }
 },
 "nbformat": 4,
 "nbformat_minor": 5
}
